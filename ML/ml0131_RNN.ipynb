{
 "cells": [
  {
   "cell_type": "code",
   "execution_count": 1,
   "metadata": {},
   "outputs": [
    {
     "name": "stdout",
     "output_type": "stream",
     "text": [
      "Downloading data from https://storage.googleapis.com/tensorflow/tf-keras-datasets/imdb.npz\n",
      "17464789/17464789 [==============================] - 9s 1us/step\n"
     ]
    }
   ],
   "source": [
    "from tensorflow.keras.datasets import imdb\n",
    "(train_input, train_target), (test_input, test_target) = imdb.load_data(\n",
    "num_words=500)"
   ]
  },
  {
   "cell_type": "code",
   "execution_count": 2,
   "metadata": {},
   "outputs": [
    {
     "name": "stdout",
     "output_type": "stream",
     "text": [
      "(25000,) (25000,)\n"
     ]
    }
   ],
   "source": [
    "print(train_input.shape, test_input.shape)"
   ]
  },
  {
   "cell_type": "code",
   "execution_count": 4,
   "metadata": {},
   "outputs": [
    {
     "name": "stdout",
     "output_type": "stream",
     "text": [
      "218\n"
     ]
    }
   ],
   "source": [
    "print(len(train_input[0]))"
   ]
  },
  {
   "cell_type": "code",
   "execution_count": 5,
   "metadata": {},
   "outputs": [
    {
     "name": "stdout",
     "output_type": "stream",
     "text": [
      "189\n"
     ]
    }
   ],
   "source": [
    "print(len(train_input[1]))"
   ]
  },
  {
   "cell_type": "code",
   "execution_count": 6,
   "metadata": {},
   "outputs": [
    {
     "name": "stdout",
     "output_type": "stream",
     "text": [
      "[1, 14, 22, 16, 43, 2, 2, 2, 2, 65, 458, 2, 66, 2, 4, 173, 36, 256, 5, 25, 100, 43, 2, 112, 50, 2, 2, 9, 35, 480, 284, 5, 150, 4, 172, 112, 167, 2, 336, 385, 39, 4, 172, 2, 2, 17, 2, 38, 13, 447, 4, 192, 50, 16, 6, 147, 2, 19, 14, 22, 4, 2, 2, 469, 4, 22, 71, 87, 12, 16, 43, 2, 38, 76, 15, 13, 2, 4, 22, 17, 2, 17, 12, 16, 2, 18, 2, 5, 62, 386, 12, 8, 316, 8, 106, 5, 4, 2, 2, 16, 480, 66, 2, 33, 4, 130, 12, 16, 38, 2, 5, 25, 124, 51, 36, 135, 48, 25, 2, 33, 6, 22, 12, 215, 28, 77, 52, 5, 14, 407, 16, 82, 2, 8, 4, 107, 117, 2, 15, 256, 4, 2, 7, 2, 5, 2, 36, 71, 43, 2, 476, 26, 400, 317, 46, 7, 4, 2, 2, 13, 104, 88, 4, 381, 15, 297, 98, 32, 2, 56, 26, 141, 6, 194, 2, 18, 4, 226, 22, 21, 134, 476, 26, 480, 5, 144, 30, 2, 18, 51, 36, 28, 224, 92, 25, 104, 4, 226, 65, 16, 38, 2, 88, 12, 16, 283, 5, 16, 2, 113, 103, 32, 15, 16, 2, 19, 178, 32]\n"
     ]
    }
   ],
   "source": [
    "print(train_input[0])"
   ]
  },
  {
   "cell_type": "code",
   "execution_count": 7,
   "metadata": {},
   "outputs": [
    {
     "name": "stdout",
     "output_type": "stream",
     "text": [
      "[1 0 0 1 0 0 1 0 1 0 1 0 0 0 0 0 1 1 0 1]\n"
     ]
    }
   ],
   "source": [
    "print(train_target[:20])"
   ]
  },
  {
   "cell_type": "code",
   "execution_count": 8,
   "metadata": {},
   "outputs": [],
   "source": [
    "from sklearn.model_selection import train_test_split\n",
    "train_input, val_input, train_target, val_target = train_test_split(\n",
    "train_input, train_target, test_size=0.2, random_state=42)"
   ]
  },
  {
   "cell_type": "code",
   "execution_count": 9,
   "metadata": {},
   "outputs": [
    {
     "name": "stdout",
     "output_type": "stream",
     "text": [
      "239.00925 178.0\n"
     ]
    }
   ],
   "source": [
    "import numpy as np\n",
    "lengths = np.array([len(x) for x in train_input])\n",
    "print(np.mean(lengths), np.median(lengths))"
   ]
  },
  {
   "cell_type": "code",
   "execution_count": 10,
   "metadata": {},
   "outputs": [
    {
     "data": {
      "image/png": "[encoded data removed]",
      "text/plain": [
       "<Figure size 640x480 with 1 Axes>"
      ]
     },
     "metadata": {},
     "output_type": "display_data"
    }
   ],
   "source": [
    "import matplotlib.pyplot as plt\n",
    "plt.hist(lengths)\n",
    "plt.xlabel('length')\n",
    "plt.ylabel('frequency')\n",
    "plt.show()"
   ]
  },
  {
   "cell_type": "code",
   "execution_count": 11,
   "metadata": {},
   "outputs": [],
   "source": [
    "from tensorflow.keras.preprocessing.sequence import pad_sequences\n",
    "train_seq = pad_sequences(train_input, maxlen=100)"
   ]
  },
  {
   "cell_type": "code",
   "execution_count": 12,
   "metadata": {},
   "outputs": [
    {
     "name": "stdout",
     "output_type": "stream",
     "text": [
      "(20000, 100)\n"
     ]
    }
   ],
   "source": [
    "print(train_seq.shape)"
   ]
  },
  {
   "cell_type": "code",
   "execution_count": 13,
   "metadata": {},
   "outputs": [
    {
     "name": "stdout",
     "output_type": "stream",
     "text": [
      "[ 10   4  20   9   2 364 352   5  45   6   2   2  33 269   8   2 142   2\n",
      "   5   2  17  73  17 204   5   2  19  55   2   2  92  66 104  14  20  93\n",
      "  76   2 151  33   4  58  12 188   2 151  12 215  69 224 142  73 237   6\n",
      "   2   7   2   2 188   2 103  14  31  10  10 451   7   2   5   2  80  91\n",
      "   2  30   2  34  14  20 151  50  26 131  49   2  84  46  50  37  80  79\n",
      "   6   2  46   7  14  20  10  10 470 158]\n"
     ]
    }
   ],
   "source": [
    "print(train_seq[0])"
   ]
  },
  {
   "cell_type": "code",
   "execution_count": 14,
   "metadata": {},
   "outputs": [
    {
     "name": "stdout",
     "output_type": "stream",
     "text": [
      "[6, 2, 46, 7, 14, 20, 10, 10, 470, 158]\n"
     ]
    }
   ],
   "source": [
    "print(train_input[0][-10:])"
   ]
  },
  {
   "cell_type": "code",
   "execution_count": 15,
   "metadata": {},
   "outputs": [
    {
     "name": "stdout",
     "output_type": "stream",
     "text": [
      "[  0   0   0   0   1   2 195  19  49   2   2 190   4   2 352   2 183  10\n",
      "  10  13  82  79   4   2  36  71 269   8   2  25  19  49   7   4   2   2\n",
      "   2   2   2  10  10  48  25  40   2  11   2   2  40   2   2   5   4   2\n",
      "   2  95  14 238  56 129   2  10  10  21   2  94 364 352   2   2  11 190\n",
      "  24 484   2   7  94 205 405  10  10  87   2  34  49   2   7   2   2   2\n",
      "   2   2 290   2  46  48  64  18   4   2]\n"
     ]
    }
   ],
   "source": [
    "print(train_seq[5])"
   ]
  },
  {
   "cell_type": "code",
   "execution_count": 16,
   "metadata": {},
   "outputs": [],
   "source": [
    "val_seq = pad_sequences(val_input, maxlen=100)"
   ]
  },
  {
   "cell_type": "code",
   "execution_count": 17,
   "metadata": {},
   "outputs": [],
   "source": [
    "from tensorflow import keras\n",
    "model = keras.Sequential()\n",
    "model.add(keras.layers.SimpleRNN(8, input_shape=(100, 500)))\n",
    "model.add(keras.layers.Dense(1, activation='sigmoid'))"
   ]
  },
  {
   "cell_type": "code",
   "execution_count": 18,
   "metadata": {},
   "outputs": [],
   "source": [
    "train_oh = keras.utils.to_categorical(train_seq)"
   ]
  },
  {
   "cell_type": "code",
   "execution_count": 19,
   "metadata": {},
   "outputs": [
    {
     "name": "stdout",
     "output_type": "stream",
     "text": [
      "(20000, 100, 500)\n"
     ]
    }
   ],
   "source": [
    "print(train_oh.shape)"
   ]
  },
  {
   "cell_type": "code",
   "execution_count": 20,
   "metadata": {},
   "outputs": [
    {
     "name": "stdout",
     "output_type": "stream",
     "text": [
      "[0. 0. 0. 0. 0. 0. 0. 0. 0. 0. 1. 0.]\n"
     ]
    }
   ],
   "source": [
    "print(train_oh[0][0][:12])"
   ]
  },
  {
   "cell_type": "code",
   "execution_count": 21,
   "metadata": {},
   "outputs": [
    {
     "name": "stdout",
     "output_type": "stream",
     "text": [
      "1.0\n"
     ]
    }
   ],
   "source": [
    "print(np.sum(train_oh[0][0]))"
   ]
  },
  {
   "cell_type": "code",
   "execution_count": 22,
   "metadata": {},
   "outputs": [],
   "source": [
    "val_oh = keras.utils.to_categorical(val_seq)"
   ]
  },
  {
   "cell_type": "code",
   "execution_count": 23,
   "metadata": {},
   "outputs": [
    {
     "name": "stdout",
     "output_type": "stream",
     "text": [
      "Model: \"sequential\"\n",
      "_________________________________________________________________\n",
      " Layer (type)                Output Shape              Param #   \n",
      "=================================================================\n",
      " simple_rnn (SimpleRNN)      (None, 8)                 4072      \n",
      "                                                                 \n",
      " dense (Dense)               (None, 1)                 9         \n",
      "                                                                 \n",
      "=================================================================\n",
      "Total params: 4,081\n",
      "Trainable params: 4,081\n",
      "Non-trainable params: 0\n",
      "_________________________________________________________________\n"
     ]
    }
   ],
   "source": [
    "model.summary()"
   ]
  },
  {
   "cell_type": "code",
   "execution_count": 24,
   "metadata": {},
   "outputs": [
    {
     "name": "stderr",
     "output_type": "stream",
     "text": [
      "WARNING:absl:At this time, the v2.11+ optimizer `tf.keras.optimizers.RMSprop` runs slowly on M1/M2 Macs, please use the legacy Keras optimizer instead, located at `tf.keras.optimizers.legacy.RMSprop`.\n",
      "WARNING:absl:There is a known slowdown when using v2.11+ Keras optimizers on M1/M2 Macs. Falling back to the legacy Keras optimizer, i.e., `tf.keras.optimizers.legacy.RMSprop`.\n"
     ]
    },
    {
     "name": "stdout",
     "output_type": "stream",
     "text": [
      "Epoch 1/100\n"
     ]
    },
    {
     "name": "stderr",
     "output_type": "stream",
     "text": [
      "2024-01-31 10:41:33.588445: W tensorflow/tsl/platform/profile_utils/cpu_utils.cc:128] Failed to get CPU frequency: 0 Hz\n"
     ]
    },
    {
     "name": "stdout",
     "output_type": "stream",
     "text": [
      "313/313 [==============================] - 4s 11ms/step - loss: 0.6971 - accuracy: 0.4912 - val_loss: 0.6964 - val_accuracy: 0.4950\n",
      "Epoch 2/100\n",
      "313/313 [==============================] - 3s 11ms/step - loss: 0.6950 - accuracy: 0.4986 - val_loss: 0.6947 - val_accuracy: 0.5002\n",
      "Epoch 3/100\n",
      "313/313 [==============================] - 3s 11ms/step - loss: 0.6933 - accuracy: 0.5102 - val_loss: 0.6934 - val_accuracy: 0.5068\n",
      "Epoch 4/100\n",
      "313/313 [==============================] - 4s 11ms/step - loss: 0.6909 - accuracy: 0.5299 - val_loss: 0.6890 - val_accuracy: 0.5448\n",
      "Epoch 5/100\n",
      "313/313 [==============================] - 4s 11ms/step - loss: 0.6820 - accuracy: 0.5835 - val_loss: 0.6767 - val_accuracy: 0.6112\n",
      "Epoch 6/100\n",
      "313/313 [==============================] - 4s 11ms/step - loss: 0.6696 - accuracy: 0.6261 - val_loss: 0.6634 - val_accuracy: 0.6424\n",
      "Epoch 7/100\n",
      "313/313 [==============================] - 4s 11ms/step - loss: 0.6557 - accuracy: 0.6538 - val_loss: 0.6495 - val_accuracy: 0.6684\n",
      "Epoch 8/100\n",
      "313/313 [==============================] - 4s 11ms/step - loss: 0.6403 - accuracy: 0.6773 - val_loss: 0.6349 - val_accuracy: 0.6840\n",
      "Epoch 9/100\n",
      "313/313 [==============================] - 4s 11ms/step - loss: 0.6241 - accuracy: 0.6962 - val_loss: 0.6191 - val_accuracy: 0.6964\n",
      "Epoch 10/100\n",
      "313/313 [==============================] - 4s 11ms/step - loss: 0.6083 - accuracy: 0.7096 - val_loss: 0.6040 - val_accuracy: 0.7086\n",
      "Epoch 11/100\n",
      "313/313 [==============================] - 4s 11ms/step - loss: 0.5926 - accuracy: 0.7229 - val_loss: 0.5906 - val_accuracy: 0.7194\n",
      "Epoch 12/100\n",
      "313/313 [==============================] - 4s 11ms/step - loss: 0.5774 - accuracy: 0.7315 - val_loss: 0.5771 - val_accuracy: 0.7292\n",
      "Epoch 13/100\n",
      "313/313 [==============================] - 4s 11ms/step - loss: 0.5650 - accuracy: 0.7380 - val_loss: 0.5697 - val_accuracy: 0.7288\n",
      "Epoch 14/100\n",
      "313/313 [==============================] - 4s 11ms/step - loss: 0.5523 - accuracy: 0.7462 - val_loss: 0.5547 - val_accuracy: 0.7386\n",
      "Epoch 15/100\n",
      "313/313 [==============================] - 4s 11ms/step - loss: 0.5412 - accuracy: 0.7537 - val_loss: 0.5440 - val_accuracy: 0.7456\n",
      "Epoch 16/100\n",
      "313/313 [==============================] - 4s 11ms/step - loss: 0.5318 - accuracy: 0.7584 - val_loss: 0.5365 - val_accuracy: 0.7474\n",
      "Epoch 17/100\n",
      "313/313 [==============================] - 4s 11ms/step - loss: 0.5227 - accuracy: 0.7629 - val_loss: 0.5360 - val_accuracy: 0.7448\n",
      "Epoch 18/100\n",
      "313/313 [==============================] - 4s 11ms/step - loss: 0.5146 - accuracy: 0.7653 - val_loss: 0.5220 - val_accuracy: 0.7580\n",
      "Epoch 19/100\n",
      "313/313 [==============================] - 4s 11ms/step - loss: 0.5059 - accuracy: 0.7702 - val_loss: 0.5149 - val_accuracy: 0.7586\n",
      "Epoch 20/100\n",
      "313/313 [==============================] - 4s 11ms/step - loss: 0.4980 - accuracy: 0.7754 - val_loss: 0.5105 - val_accuracy: 0.7600\n",
      "Epoch 21/100\n",
      "313/313 [==============================] - 4s 11ms/step - loss: 0.4915 - accuracy: 0.7793 - val_loss: 0.5061 - val_accuracy: 0.7626\n",
      "Epoch 22/100\n",
      "313/313 [==============================] - 4s 11ms/step - loss: 0.4853 - accuracy: 0.7835 - val_loss: 0.5041 - val_accuracy: 0.7666\n",
      "Epoch 23/100\n",
      "313/313 [==============================] - 4s 11ms/step - loss: 0.4794 - accuracy: 0.7879 - val_loss: 0.4983 - val_accuracy: 0.7650\n",
      "Epoch 24/100\n",
      "313/313 [==============================] - 4s 11ms/step - loss: 0.4748 - accuracy: 0.7891 - val_loss: 0.4933 - val_accuracy: 0.7632\n",
      "Epoch 25/100\n",
      "313/313 [==============================] - 4s 11ms/step - loss: 0.4695 - accuracy: 0.7918 - val_loss: 0.4921 - val_accuracy: 0.7672\n",
      "Epoch 26/100\n",
      "313/313 [==============================] - 4s 11ms/step - loss: 0.4641 - accuracy: 0.7960 - val_loss: 0.4958 - val_accuracy: 0.7670\n",
      "Epoch 27/100\n",
      "313/313 [==============================] - 4s 11ms/step - loss: 0.4602 - accuracy: 0.7973 - val_loss: 0.4890 - val_accuracy: 0.7654\n",
      "Epoch 28/100\n",
      "313/313 [==============================] - 4s 11ms/step - loss: 0.4566 - accuracy: 0.7998 - val_loss: 0.4830 - val_accuracy: 0.7712\n",
      "Epoch 29/100\n",
      "313/313 [==============================] - 4s 11ms/step - loss: 0.4536 - accuracy: 0.8025 - val_loss: 0.4801 - val_accuracy: 0.7740\n",
      "Epoch 30/100\n",
      "313/313 [==============================] - 4s 11ms/step - loss: 0.4495 - accuracy: 0.8037 - val_loss: 0.4827 - val_accuracy: 0.7708\n",
      "Epoch 31/100\n",
      "313/313 [==============================] - 4s 11ms/step - loss: 0.4472 - accuracy: 0.8055 - val_loss: 0.4786 - val_accuracy: 0.7764\n",
      "Epoch 32/100\n",
      "313/313 [==============================] - 4s 11ms/step - loss: 0.4442 - accuracy: 0.8076 - val_loss: 0.4789 - val_accuracy: 0.7778\n",
      "Epoch 33/100\n",
      "313/313 [==============================] - 4s 11ms/step - loss: 0.4412 - accuracy: 0.8084 - val_loss: 0.4748 - val_accuracy: 0.7776\n",
      "Epoch 34/100\n",
      "313/313 [==============================] - 4s 11ms/step - loss: 0.4395 - accuracy: 0.8083 - val_loss: 0.4760 - val_accuracy: 0.7740\n",
      "Epoch 35/100\n",
      "313/313 [==============================] - 4s 11ms/step - loss: 0.4375 - accuracy: 0.8110 - val_loss: 0.4730 - val_accuracy: 0.7802\n",
      "Epoch 36/100\n",
      "313/313 [==============================] - 4s 11ms/step - loss: 0.4353 - accuracy: 0.8125 - val_loss: 0.4748 - val_accuracy: 0.7794\n",
      "Epoch 37/100\n",
      "313/313 [==============================] - 4s 11ms/step - loss: 0.4342 - accuracy: 0.8122 - val_loss: 0.4695 - val_accuracy: 0.7824\n",
      "Epoch 38/100\n",
      "313/313 [==============================] - 4s 11ms/step - loss: 0.4322 - accuracy: 0.8124 - val_loss: 0.4738 - val_accuracy: 0.7792\n",
      "Epoch 39/100\n",
      "313/313 [==============================] - 4s 11ms/step - loss: 0.4297 - accuracy: 0.8138 - val_loss: 0.4698 - val_accuracy: 0.7860\n",
      "Epoch 40/100\n",
      "313/313 [==============================] - 4s 11ms/step - loss: 0.4279 - accuracy: 0.8158 - val_loss: 0.4736 - val_accuracy: 0.7830\n"
     ]
    }
   ],
   "source": [
    "rmsprop = keras.optimizers.RMSprop(learning_rate=1e-4)\n",
    "model.compile(optimizer=rmsprop, loss='binary_crossentropy',\n",
    "\t\t metrics=['accuracy'])\n",
    "checkpoint_cb = keras.callbacks.ModelCheckpoint('best-simplernn-model.h5',\n",
    "\t\t\t\t\t\t save_best_only=True)\n",
    "early_stopping_cb = keras.callbacks.EarlyStopping(patience=3, restore_best_weights=True)\n",
    "history = model.fit(train_oh, train_target, epochs=100, batch_size=64,\n",
    "validation_data=(val_oh, val_target),\n",
    "callbacks=[checkpoint_cb, early_stopping_cb])"
   ]
  },
  {
   "cell_type": "code",
   "execution_count": 25,
   "metadata": {},
   "outputs": [
    {
     "data": {
      "image/png": "[encoded data removed]",
      "text/plain": [
       "<Figure size 640x480 with 1 Axes>"
      ]
     },
     "metadata": {},
     "output_type": "display_data"
    }
   ],
   "source": [
    "plt.plot(history.history['loss'])\n",
    "plt.plot(history.history['val_loss'])\n",
    "plt.xlabel('epoch')\n",
    "plt.ylabel('loss')\n",
    "plt.legend(['train', 'val'])\n",
    "plt.show()"
   ]
  },
  {
   "cell_type": "code",
   "execution_count": null,
   "metadata": {},
   "outputs": [],
   "source": []
  }
 ],
 "metadata": {
  "kernelspec": {
   "display_name": "Ml-Study",
   "language": "python",
   "name": "python3"
  },
  "language_info": {
   "codemirror_mode": {
    "name": "ipython",
    "version": 3
   },
   "file_extension": ".py",
   "mimetype": "text/x-python",
   "name": "python",
   "nbconvert_exporter": "python",
   "pygments_lexer": "ipython3",
   "version": "3.9.18"
  }
 },
 "nbformat": 4,
 "nbformat_minor": 2
}
