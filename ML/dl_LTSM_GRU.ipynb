{
 "cells": [
  {
   "cell_type": "code",
   "execution_count": 3,
   "metadata": {},
   "outputs": [],
   "source": [
    "from tensorflow.keras.datasets import imdb\n",
    "from sklearn.model_selection import train_test_split\n",
    "(train_input, train_target), (test_input, test_target) = imdb.load_data(\n",
    "num_words=500)\n",
    "train_input, val_input, train_target, val_target = train_test_split(\n",
    "train_input, train_target, test_size=0.2, random_state=42)"
   ]
  },
  {
   "cell_type": "code",
   "execution_count": 4,
   "metadata": {},
   "outputs": [],
   "source": [
    "from tensorflow.keras.preprocessing.sequence import pad_sequences\n",
    "train_seq = pad_sequences(train_input, maxlen=100)\n",
    "val_seq = pad_sequences(val_input, maxlen=100)"
   ]
  },
  {
   "cell_type": "code",
   "execution_count": 5,
   "metadata": {},
   "outputs": [
    {
     "name": "stderr",
     "output_type": "stream",
     "text": [
      "2024-02-05 10:04:06.593335: I tensorflow/core/common_runtime/executor.cc:1197] [/device:CPU:0] (DEBUG INFO) Executor start aborting (this does not indicate an error and you can ignore this message): INVALID_ARGUMENT: You must feed a value for placeholder tensor 'gradients/split_2_grad/concat/split_2/split_dim' with dtype int32\n",
      "\t [[{{node gradients/split_2_grad/concat/split_2/split_dim}}]]\n",
      "2024-02-05 10:04:06.593980: I tensorflow/core/common_runtime/executor.cc:1197] [/device:CPU:0] (DEBUG INFO) Executor start aborting (this does not indicate an error and you can ignore this message): INVALID_ARGUMENT: You must feed a value for placeholder tensor 'gradients/split_grad/concat/split/split_dim' with dtype int32\n",
      "\t [[{{node gradients/split_grad/concat/split/split_dim}}]]\n",
      "2024-02-05 10:04:06.594511: I tensorflow/core/common_runtime/executor.cc:1197] [/device:CPU:0] (DEBUG INFO) Executor start aborting (this does not indicate an error and you can ignore this message): INVALID_ARGUMENT: You must feed a value for placeholder tensor 'gradients/split_1_grad/concat/split_1/split_dim' with dtype int32\n",
      "\t [[{{node gradients/split_1_grad/concat/split_1/split_dim}}]]\n"
     ]
    }
   ],
   "source": [
    "from tensorflow import keras\n",
    "model = keras.Sequential()\n",
    "model.add(keras.layers.Embedding(500, 16, input_length=100))\n",
    "model.add(keras.layers.LSTM(8))\n",
    "model.add(keras.layers.Dense(1, activation='sigmoid'))"
   ]
  },
  {
   "cell_type": "code",
   "execution_count": 6,
   "metadata": {},
   "outputs": [
    {
     "name": "stdout",
     "output_type": "stream",
     "text": [
      "Model: \"sequential\"\n",
      "_________________________________________________________________\n",
      " Layer (type)                Output Shape              Param #   \n",
      "=================================================================\n",
      " embedding (Embedding)       (None, 100, 16)           8000      \n",
      "                                                                 \n",
      " lstm (LSTM)                 (None, 8)                 800       \n",
      "                                                                 \n",
      " dense (Dense)               (None, 1)                 9         \n",
      "                                                                 \n",
      "=================================================================\n",
      "Total params: 8,809\n",
      "Trainable params: 8,809\n",
      "Non-trainable params: 0\n",
      "_________________________________________________________________\n"
     ]
    }
   ],
   "source": [
    "model.summary()"
   ]
  },
  {
   "cell_type": "code",
   "execution_count": 5,
   "metadata": {},
   "outputs": [
    {
     "name": "stderr",
     "output_type": "stream",
     "text": [
      "WARNING:absl:At this time, the v2.11+ optimizer `tf.keras.optimizers.RMSprop` runs slowly on M1/M2 Macs, please use the legacy Keras optimizer instead, located at `tf.keras.optimizers.legacy.RMSprop`.\n",
      "WARNING:absl:There is a known slowdown when using v2.11+ Keras optimizers on M1/M2 Macs. Falling back to the legacy Keras optimizer, i.e., `tf.keras.optimizers.legacy.RMSprop`.\n"
     ]
    },
    {
     "name": "stdout",
     "output_type": "stream",
     "text": [
      "Epoch 1/100\n"
     ]
    },
    {
     "name": "stderr",
     "output_type": "stream",
     "text": [
      "2024-02-01 10:07:22.345725: W tensorflow/tsl/platform/profile_utils/cpu_utils.cc:128] Failed to get CPU frequency: 0 Hz\n",
      "2024-02-01 10:07:22.416172: I tensorflow/core/common_runtime/executor.cc:1197] [/device:CPU:0] (DEBUG INFO) Executor start aborting (this does not indicate an error and you can ignore this message): INVALID_ARGUMENT: You must feed a value for placeholder tensor 'gradients/split_2_grad/concat/split_2/split_dim' with dtype int32\n",
      "\t [[{{node gradients/split_2_grad/concat/split_2/split_dim}}]]\n",
      "2024-02-01 10:07:22.416678: I tensorflow/core/common_runtime/executor.cc:1197] [/device:CPU:0] (DEBUG INFO) Executor start aborting (this does not indicate an error and you can ignore this message): INVALID_ARGUMENT: You must feed a value for placeholder tensor 'gradients/split_grad/concat/split/split_dim' with dtype int32\n",
      "\t [[{{node gradients/split_grad/concat/split/split_dim}}]]\n",
      "2024-02-01 10:07:22.417385: I tensorflow/core/common_runtime/executor.cc:1197] [/device:CPU:0] (DEBUG INFO) Executor start aborting (this does not indicate an error and you can ignore this message): INVALID_ARGUMENT: You must feed a value for placeholder tensor 'gradients/split_1_grad/concat/split_1/split_dim' with dtype int32\n",
      "\t [[{{node gradients/split_1_grad/concat/split_1/split_dim}}]]\n",
      "2024-02-01 10:07:22.589464: I tensorflow/core/common_runtime/executor.cc:1197] [/device:CPU:0] (DEBUG INFO) Executor start aborting (this does not indicate an error and you can ignore this message): INVALID_ARGUMENT: You must feed a value for placeholder tensor 'gradients/split_2_grad/concat/split_2/split_dim' with dtype int32\n",
      "\t [[{{node gradients/split_2_grad/concat/split_2/split_dim}}]]\n",
      "2024-02-01 10:07:22.590369: I tensorflow/core/common_runtime/executor.cc:1197] [/device:CPU:0] (DEBUG INFO) Executor start aborting (this does not indicate an error and you can ignore this message): INVALID_ARGUMENT: You must feed a value for placeholder tensor 'gradients/split_grad/concat/split/split_dim' with dtype int32\n",
      "\t [[{{node gradients/split_grad/concat/split/split_dim}}]]\n",
      "2024-02-01 10:07:22.590987: I tensorflow/core/common_runtime/executor.cc:1197] [/device:CPU:0] (DEBUG INFO) Executor start aborting (this does not indicate an error and you can ignore this message): INVALID_ARGUMENT: You must feed a value for placeholder tensor 'gradients/split_1_grad/concat/split_1/split_dim' with dtype int32\n",
      "\t [[{{node gradients/split_1_grad/concat/split_1/split_dim}}]]\n"
     ]
    },
    {
     "name": "stdout",
     "output_type": "stream",
     "text": [
      "312/313 [============================>.] - ETA: 0s - loss: 0.6913 - accuracy: 0.5677"
     ]
    },
    {
     "name": "stderr",
     "output_type": "stream",
     "text": [
      "2024-02-01 10:07:25.888195: I tensorflow/core/common_runtime/executor.cc:1197] [/device:CPU:0] (DEBUG INFO) Executor start aborting (this does not indicate an error and you can ignore this message): INVALID_ARGUMENT: You must feed a value for placeholder tensor 'gradients/split_2_grad/concat/split_2/split_dim' with dtype int32\n",
      "\t [[{{node gradients/split_2_grad/concat/split_2/split_dim}}]]\n",
      "2024-02-01 10:07:25.888937: I tensorflow/core/common_runtime/executor.cc:1197] [/device:CPU:0] (DEBUG INFO) Executor start aborting (this does not indicate an error and you can ignore this message): INVALID_ARGUMENT: You must feed a value for placeholder tensor 'gradients/split_grad/concat/split/split_dim' with dtype int32\n",
      "\t [[{{node gradients/split_grad/concat/split/split_dim}}]]\n",
      "2024-02-01 10:07:25.889424: I tensorflow/core/common_runtime/executor.cc:1197] [/device:CPU:0] (DEBUG INFO) Executor start aborting (this does not indicate an error and you can ignore this message): INVALID_ARGUMENT: You must feed a value for placeholder tensor 'gradients/split_1_grad/concat/split_1/split_dim' with dtype int32\n",
      "\t [[{{node gradients/split_1_grad/concat/split_1/split_dim}}]]\n"
     ]
    },
    {
     "name": "stdout",
     "output_type": "stream",
     "text": [
      "313/313 [==============================] - 4s 10ms/step - loss: 0.6913 - accuracy: 0.5676 - val_loss: 0.6893 - val_accuracy: 0.6108\n",
      "Epoch 2/100\n",
      "313/313 [==============================] - 3s 10ms/step - loss: 0.6828 - accuracy: 0.6574 - val_loss: 0.6725 - val_accuracy: 0.6966\n",
      "Epoch 3/100\n",
      "313/313 [==============================] - 3s 10ms/step - loss: 0.6343 - accuracy: 0.7071 - val_loss: 0.5985 - val_accuracy: 0.7146\n",
      "Epoch 4/100\n",
      "313/313 [==============================] - 3s 10ms/step - loss: 0.5791 - accuracy: 0.7292 - val_loss: 0.5678 - val_accuracy: 0.7290\n",
      "Epoch 5/100\n",
      "313/313 [==============================] - 3s 10ms/step - loss: 0.5493 - accuracy: 0.7442 - val_loss: 0.5429 - val_accuracy: 0.7454\n",
      "Epoch 6/100\n",
      "313/313 [==============================] - 3s 10ms/step - loss: 0.5233 - accuracy: 0.7617 - val_loss: 0.5201 - val_accuracy: 0.7532\n",
      "Epoch 7/100\n",
      "313/313 [==============================] - 3s 10ms/step - loss: 0.5019 - accuracy: 0.7758 - val_loss: 0.5034 - val_accuracy: 0.7684\n",
      "Epoch 8/100\n",
      "313/313 [==============================] - 3s 10ms/step - loss: 0.4855 - accuracy: 0.7837 - val_loss: 0.4993 - val_accuracy: 0.7646\n",
      "Epoch 9/100\n",
      "313/313 [==============================] - 3s 10ms/step - loss: 0.4742 - accuracy: 0.7891 - val_loss: 0.4828 - val_accuracy: 0.7818\n",
      "Epoch 10/100\n",
      "313/313 [==============================] - 3s 10ms/step - loss: 0.4656 - accuracy: 0.7925 - val_loss: 0.4779 - val_accuracy: 0.7802\n",
      "Epoch 11/100\n",
      "313/313 [==============================] - 3s 10ms/step - loss: 0.4595 - accuracy: 0.7958 - val_loss: 0.4739 - val_accuracy: 0.7804\n",
      "Epoch 12/100\n",
      "313/313 [==============================] - 3s 10ms/step - loss: 0.4540 - accuracy: 0.7986 - val_loss: 0.4691 - val_accuracy: 0.7860\n",
      "Epoch 13/100\n",
      "313/313 [==============================] - 3s 10ms/step - loss: 0.4491 - accuracy: 0.8023 - val_loss: 0.4675 - val_accuracy: 0.7822\n",
      "Epoch 14/100\n",
      "313/313 [==============================] - 3s 10ms/step - loss: 0.4453 - accuracy: 0.8020 - val_loss: 0.4636 - val_accuracy: 0.7852\n",
      "Epoch 15/100\n",
      "313/313 [==============================] - 3s 10ms/step - loss: 0.4416 - accuracy: 0.8030 - val_loss: 0.4609 - val_accuracy: 0.7888\n",
      "Epoch 16/100\n",
      "313/313 [==============================] - 3s 10ms/step - loss: 0.4382 - accuracy: 0.8054 - val_loss: 0.4576 - val_accuracy: 0.7890\n",
      "Epoch 17/100\n",
      "313/313 [==============================] - 3s 10ms/step - loss: 0.4355 - accuracy: 0.8066 - val_loss: 0.4546 - val_accuracy: 0.7916\n",
      "Epoch 18/100\n",
      "313/313 [==============================] - 3s 10ms/step - loss: 0.4327 - accuracy: 0.8080 - val_loss: 0.4535 - val_accuracy: 0.7902\n",
      "Epoch 19/100\n",
      "313/313 [==============================] - 3s 10ms/step - loss: 0.4303 - accuracy: 0.8084 - val_loss: 0.4510 - val_accuracy: 0.7922\n",
      "Epoch 20/100\n",
      "313/313 [==============================] - 3s 10ms/step - loss: 0.4281 - accuracy: 0.8091 - val_loss: 0.4507 - val_accuracy: 0.7944\n",
      "Epoch 21/100\n",
      "313/313 [==============================] - 3s 10ms/step - loss: 0.4257 - accuracy: 0.8105 - val_loss: 0.4485 - val_accuracy: 0.7934\n",
      "Epoch 22/100\n",
      "313/313 [==============================] - 3s 10ms/step - loss: 0.4242 - accuracy: 0.8099 - val_loss: 0.4478 - val_accuracy: 0.7948\n",
      "Epoch 23/100\n",
      "313/313 [==============================] - 3s 10ms/step - loss: 0.4224 - accuracy: 0.8114 - val_loss: 0.4496 - val_accuracy: 0.7934\n",
      "Epoch 24/100\n",
      "313/313 [==============================] - 3s 10ms/step - loss: 0.4207 - accuracy: 0.8121 - val_loss: 0.4463 - val_accuracy: 0.7950\n",
      "Epoch 25/100\n",
      "313/313 [==============================] - 3s 10ms/step - loss: 0.4190 - accuracy: 0.8136 - val_loss: 0.4439 - val_accuracy: 0.7964\n",
      "Epoch 26/100\n",
      "313/313 [==============================] - 3s 10ms/step - loss: 0.4181 - accuracy: 0.8139 - val_loss: 0.4450 - val_accuracy: 0.7984\n",
      "Epoch 27/100\n",
      "313/313 [==============================] - 3s 10ms/step - loss: 0.4166 - accuracy: 0.8132 - val_loss: 0.4407 - val_accuracy: 0.7984\n",
      "Epoch 28/100\n",
      "313/313 [==============================] - 3s 10ms/step - loss: 0.4152 - accuracy: 0.8145 - val_loss: 0.4397 - val_accuracy: 0.7988\n",
      "Epoch 29/100\n",
      "313/313 [==============================] - 3s 10ms/step - loss: 0.4142 - accuracy: 0.8158 - val_loss: 0.4396 - val_accuracy: 0.7978\n",
      "Epoch 30/100\n",
      "313/313 [==============================] - 3s 10ms/step - loss: 0.4133 - accuracy: 0.8146 - val_loss: 0.4379 - val_accuracy: 0.8000\n",
      "Epoch 31/100\n",
      "313/313 [==============================] - 3s 10ms/step - loss: 0.4119 - accuracy: 0.8158 - val_loss: 0.4389 - val_accuracy: 0.7992\n",
      "Epoch 32/100\n",
      "313/313 [==============================] - 3s 10ms/step - loss: 0.4108 - accuracy: 0.8164 - val_loss: 0.4371 - val_accuracy: 0.8000\n",
      "Epoch 33/100\n",
      "313/313 [==============================] - 3s 10ms/step - loss: 0.4101 - accuracy: 0.8169 - val_loss: 0.4354 - val_accuracy: 0.8018\n",
      "Epoch 34/100\n",
      "313/313 [==============================] - 3s 10ms/step - loss: 0.4094 - accuracy: 0.8163 - val_loss: 0.4355 - val_accuracy: 0.8026\n",
      "Epoch 35/100\n",
      "313/313 [==============================] - 3s 10ms/step - loss: 0.4083 - accuracy: 0.8166 - val_loss: 0.4358 - val_accuracy: 0.7980\n",
      "Epoch 36/100\n",
      "313/313 [==============================] - 3s 10ms/step - loss: 0.4077 - accuracy: 0.8176 - val_loss: 0.4342 - val_accuracy: 0.8026\n",
      "Epoch 37/100\n",
      "313/313 [==============================] - 3s 10ms/step - loss: 0.4069 - accuracy: 0.8164 - val_loss: 0.4342 - val_accuracy: 0.8028\n",
      "Epoch 38/100\n",
      "313/313 [==============================] - 3s 9ms/step - loss: 0.4061 - accuracy: 0.8187 - val_loss: 0.4343 - val_accuracy: 0.8032\n",
      "Epoch 39/100\n",
      "313/313 [==============================] - 3s 10ms/step - loss: 0.4053 - accuracy: 0.8195 - val_loss: 0.4343 - val_accuracy: 0.8022\n"
     ]
    }
   ],
   "source": [
    "rmsprop = keras.optimizers.RMSprop(learning_rate=1e-4)\n",
    "model.compile(optimizer=rmsprop, loss='binary_crossentropy',\n",
    "\t\t metrics=['accuracy'])\n",
    "checkpoint_cb = keras.callbacks.ModelCheckpoint('best-lstm-model.h5',\n",
    "save_best_only=True)\n",
    "early_stopping_cb = keras.callbacks.EarlyStopping(patience=3,\n",
    "restore_best_weights=True)\n",
    "history = model.fit(train_seq, train_target, epochs=100, batch_size=64,\n",
    "validation_data=(val_seq, val_target),\n",
    "callbacks=[checkpoint_cb, early_stopping_cb])"
   ]
  },
  {
   "cell_type": "code",
   "execution_count": 6,
   "metadata": {},
   "outputs": [
    {
     "data": {
      "image/png": "[encoded data removed]",
      "text/plain": [
       "<Figure size 640x480 with 1 Axes>"
      ]
     },
     "metadata": {},
     "output_type": "display_data"
    }
   ],
   "source": [
    "import matplotlib.pyplot as plt\n",
    "plt.plot(history.history['loss'])\n",
    "plt.plot(history.history['val_loss'])\n",
    "plt.xlabel('epoch')\n",
    "plt.ylabel('loss')\n",
    "plt.legend(['train', 'val'])\n",
    "plt.show()"
   ]
  },
  {
   "cell_type": "code",
   "execution_count": 7,
   "metadata": {},
   "outputs": [
    {
     "name": "stderr",
     "output_type": "stream",
     "text": [
      "2024-02-01 10:13:23.773075: I tensorflow/core/common_runtime/executor.cc:1197] [/device:CPU:0] (DEBUG INFO) Executor start aborting (this does not indicate an error and you can ignore this message): INVALID_ARGUMENT: You must feed a value for placeholder tensor 'gradients/split_2_grad/concat/split_2/split_dim' with dtype int32\n",
      "\t [[{{node gradients/split_2_grad/concat/split_2/split_dim}}]]\n",
      "2024-02-01 10:13:23.773830: I tensorflow/core/common_runtime/executor.cc:1197] [/device:CPU:0] (DEBUG INFO) Executor start aborting (this does not indicate an error and you can ignore this message): INVALID_ARGUMENT: You must feed a value for placeholder tensor 'gradients/split_grad/concat/split/split_dim' with dtype int32\n",
      "\t [[{{node gradients/split_grad/concat/split/split_dim}}]]\n",
      "2024-02-01 10:13:23.774236: I tensorflow/core/common_runtime/executor.cc:1197] [/device:CPU:0] (DEBUG INFO) Executor start aborting (this does not indicate an error and you can ignore this message): INVALID_ARGUMENT: You must feed a value for placeholder tensor 'gradients/split_1_grad/concat/split_1/split_dim' with dtype int32\n",
      "\t [[{{node gradients/split_1_grad/concat/split_1/split_dim}}]]\n"
     ]
    }
   ],
   "source": [
    "model2 = keras.Sequential()\n",
    "model2.add(keras.layers.Embedding(500, 16, input_length=100))\n",
    "model2.add(keras.layers.LSTM(8, dropout=0.3))\n",
    "model2.add(keras.layers.Dense(1, activation='sigmoid'))"
   ]
  },
  {
   "cell_type": "code",
   "execution_count": 8,
   "metadata": {},
   "outputs": [
    {
     "name": "stderr",
     "output_type": "stream",
     "text": [
      "WARNING:absl:At this time, the v2.11+ optimizer `tf.keras.optimizers.RMSprop` runs slowly on M1/M2 Macs, please use the legacy Keras optimizer instead, located at `tf.keras.optimizers.legacy.RMSprop`.\n",
      "WARNING:absl:There is a known slowdown when using v2.11+ Keras optimizers on M1/M2 Macs. Falling back to the legacy Keras optimizer, i.e., `tf.keras.optimizers.legacy.RMSprop`.\n"
     ]
    },
    {
     "name": "stdout",
     "output_type": "stream",
     "text": [
      "Epoch 1/100\n"
     ]
    },
    {
     "name": "stderr",
     "output_type": "stream",
     "text": [
      "2024-02-01 10:13:39.905607: I tensorflow/core/common_runtime/executor.cc:1197] [/device:CPU:0] (DEBUG INFO) Executor start aborting (this does not indicate an error and you can ignore this message): INVALID_ARGUMENT: You must feed a value for placeholder tensor 'gradients/split_2_grad/concat/split_2/split_dim' with dtype int32\n",
      "\t [[{{node gradients/split_2_grad/concat/split_2/split_dim}}]]\n",
      "2024-02-01 10:13:39.906164: I tensorflow/core/common_runtime/executor.cc:1197] [/device:CPU:0] (DEBUG INFO) Executor start aborting (this does not indicate an error and you can ignore this message): INVALID_ARGUMENT: You must feed a value for placeholder tensor 'gradients/split_grad/concat/split/split_dim' with dtype int32\n",
      "\t [[{{node gradients/split_grad/concat/split/split_dim}}]]\n",
      "2024-02-01 10:13:39.906922: I tensorflow/core/common_runtime/executor.cc:1197] [/device:CPU:0] (DEBUG INFO) Executor start aborting (this does not indicate an error and you can ignore this message): INVALID_ARGUMENT: You must feed a value for placeholder tensor 'gradients/split_1_grad/concat/split_1/split_dim' with dtype int32\n",
      "\t [[{{node gradients/split_1_grad/concat/split_1/split_dim}}]]\n",
      "2024-02-01 10:13:40.172869: I tensorflow/core/common_runtime/executor.cc:1197] [/device:CPU:0] (DEBUG INFO) Executor start aborting (this does not indicate an error and you can ignore this message): INVALID_ARGUMENT: You must feed a value for placeholder tensor 'gradients/split_2_grad/concat/split_2/split_dim' with dtype int32\n",
      "\t [[{{node gradients/split_2_grad/concat/split_2/split_dim}}]]\n",
      "2024-02-01 10:13:40.173589: I tensorflow/core/common_runtime/executor.cc:1197] [/device:CPU:0] (DEBUG INFO) Executor start aborting (this does not indicate an error and you can ignore this message): INVALID_ARGUMENT: You must feed a value for placeholder tensor 'gradients/split_grad/concat/split/split_dim' with dtype int32\n",
      "\t [[{{node gradients/split_grad/concat/split/split_dim}}]]\n",
      "2024-02-01 10:13:40.174016: I tensorflow/core/common_runtime/executor.cc:1197] [/device:CPU:0] (DEBUG INFO) Executor start aborting (this does not indicate an error and you can ignore this message): INVALID_ARGUMENT: You must feed a value for placeholder tensor 'gradients/split_1_grad/concat/split_1/split_dim' with dtype int32\n",
      "\t [[{{node gradients/split_1_grad/concat/split_1/split_dim}}]]\n"
     ]
    },
    {
     "name": "stdout",
     "output_type": "stream",
     "text": [
      "312/313 [============================>.] - ETA: 0s - loss: 0.6921 - accuracy: 0.5566"
     ]
    },
    {
     "name": "stderr",
     "output_type": "stream",
     "text": [
      "2024-02-01 10:13:43.666726: I tensorflow/core/common_runtime/executor.cc:1197] [/device:CPU:0] (DEBUG INFO) Executor start aborting (this does not indicate an error and you can ignore this message): INVALID_ARGUMENT: You must feed a value for placeholder tensor 'gradients/split_2_grad/concat/split_2/split_dim' with dtype int32\n",
      "\t [[{{node gradients/split_2_grad/concat/split_2/split_dim}}]]\n",
      "2024-02-01 10:13:43.667182: I tensorflow/core/common_runtime/executor.cc:1197] [/device:CPU:0] (DEBUG INFO) Executor start aborting (this does not indicate an error and you can ignore this message): INVALID_ARGUMENT: You must feed a value for placeholder tensor 'gradients/split_grad/concat/split/split_dim' with dtype int32\n",
      "\t [[{{node gradients/split_grad/concat/split/split_dim}}]]\n",
      "2024-02-01 10:13:43.667781: I tensorflow/core/common_runtime/executor.cc:1197] [/device:CPU:0] (DEBUG INFO) Executor start aborting (this does not indicate an error and you can ignore this message): INVALID_ARGUMENT: You must feed a value for placeholder tensor 'gradients/split_1_grad/concat/split_1/split_dim' with dtype int32\n",
      "\t [[{{node gradients/split_1_grad/concat/split_1/split_dim}}]]\n"
     ]
    },
    {
     "name": "stdout",
     "output_type": "stream",
     "text": [
      "313/313 [==============================] - 4s 11ms/step - loss: 0.6921 - accuracy: 0.5566 - val_loss: 0.6911 - val_accuracy: 0.5986\n",
      "Epoch 2/100\n",
      "313/313 [==============================] - 3s 10ms/step - loss: 0.6890 - accuracy: 0.6191 - val_loss: 0.6859 - val_accuracy: 0.6508\n",
      "Epoch 3/100\n",
      "313/313 [==============================] - 3s 10ms/step - loss: 0.6759 - accuracy: 0.6682 - val_loss: 0.6574 - val_accuracy: 0.6804\n",
      "Epoch 4/100\n",
      "313/313 [==============================] - 3s 10ms/step - loss: 0.6107 - accuracy: 0.7090 - val_loss: 0.5878 - val_accuracy: 0.7160\n",
      "Epoch 5/100\n",
      "313/313 [==============================] - 3s 10ms/step - loss: 0.5738 - accuracy: 0.7278 - val_loss: 0.5635 - val_accuracy: 0.7364\n",
      "Epoch 6/100\n",
      "313/313 [==============================] - 3s 10ms/step - loss: 0.5544 - accuracy: 0.7406 - val_loss: 0.5444 - val_accuracy: 0.7546\n",
      "Epoch 7/100\n",
      "313/313 [==============================] - 3s 10ms/step - loss: 0.5364 - accuracy: 0.7526 - val_loss: 0.5280 - val_accuracy: 0.7614\n",
      "Epoch 8/100\n",
      "313/313 [==============================] - 3s 10ms/step - loss: 0.5207 - accuracy: 0.7626 - val_loss: 0.5140 - val_accuracy: 0.7740\n",
      "Epoch 9/100\n",
      "313/313 [==============================] - 3s 10ms/step - loss: 0.5049 - accuracy: 0.7714 - val_loss: 0.5001 - val_accuracy: 0.7754\n",
      "Epoch 10/100\n",
      "313/313 [==============================] - 3s 10ms/step - loss: 0.4918 - accuracy: 0.7781 - val_loss: 0.4891 - val_accuracy: 0.7768\n",
      "Epoch 11/100\n",
      "313/313 [==============================] - 3s 10ms/step - loss: 0.4799 - accuracy: 0.7855 - val_loss: 0.4780 - val_accuracy: 0.7860\n",
      "Epoch 12/100\n",
      "313/313 [==============================] - 3s 10ms/step - loss: 0.4702 - accuracy: 0.7871 - val_loss: 0.4719 - val_accuracy: 0.7878\n",
      "Epoch 13/100\n",
      "313/313 [==============================] - 3s 10ms/step - loss: 0.4623 - accuracy: 0.7907 - val_loss: 0.4629 - val_accuracy: 0.7884\n",
      "Epoch 14/100\n",
      "313/313 [==============================] - 3s 10ms/step - loss: 0.4535 - accuracy: 0.7959 - val_loss: 0.4552 - val_accuracy: 0.7984\n",
      "Epoch 15/100\n",
      "313/313 [==============================] - 3s 10ms/step - loss: 0.4474 - accuracy: 0.7993 - val_loss: 0.4509 - val_accuracy: 0.7940\n",
      "Epoch 16/100\n",
      "313/313 [==============================] - 3s 10ms/step - loss: 0.4425 - accuracy: 0.7995 - val_loss: 0.4486 - val_accuracy: 0.7972\n",
      "Epoch 17/100\n",
      "313/313 [==============================] - 3s 10ms/step - loss: 0.4382 - accuracy: 0.8023 - val_loss: 0.4435 - val_accuracy: 0.7982\n",
      "Epoch 18/100\n",
      "313/313 [==============================] - 3s 10ms/step - loss: 0.4354 - accuracy: 0.8018 - val_loss: 0.4410 - val_accuracy: 0.7976\n",
      "Epoch 19/100\n",
      "313/313 [==============================] - 3s 10ms/step - loss: 0.4327 - accuracy: 0.8026 - val_loss: 0.4402 - val_accuracy: 0.7976\n",
      "Epoch 20/100\n",
      "313/313 [==============================] - 3s 10ms/step - loss: 0.4313 - accuracy: 0.8027 - val_loss: 0.4379 - val_accuracy: 0.8006\n",
      "Epoch 21/100\n",
      "313/313 [==============================] - 3s 10ms/step - loss: 0.4276 - accuracy: 0.8074 - val_loss: 0.4410 - val_accuracy: 0.7944\n",
      "Epoch 22/100\n",
      "313/313 [==============================] - 3s 10ms/step - loss: 0.4274 - accuracy: 0.8061 - val_loss: 0.4353 - val_accuracy: 0.7982\n",
      "Epoch 23/100\n",
      "313/313 [==============================] - 3s 10ms/step - loss: 0.4238 - accuracy: 0.8061 - val_loss: 0.4351 - val_accuracy: 0.8002\n",
      "Epoch 24/100\n",
      "313/313 [==============================] - 3s 10ms/step - loss: 0.4230 - accuracy: 0.8055 - val_loss: 0.4367 - val_accuracy: 0.8018\n",
      "Epoch 25/100\n",
      "313/313 [==============================] - 3s 10ms/step - loss: 0.4251 - accuracy: 0.8056 - val_loss: 0.4338 - val_accuracy: 0.8022\n",
      "Epoch 26/100\n",
      "313/313 [==============================] - 3s 10ms/step - loss: 0.4238 - accuracy: 0.8079 - val_loss: 0.4325 - val_accuracy: 0.8010\n",
      "Epoch 27/100\n",
      "313/313 [==============================] - 3s 10ms/step - loss: 0.4217 - accuracy: 0.8060 - val_loss: 0.4319 - val_accuracy: 0.8020\n",
      "Epoch 28/100\n",
      "313/313 [==============================] - 3s 10ms/step - loss: 0.4201 - accuracy: 0.8078 - val_loss: 0.4356 - val_accuracy: 0.7934\n",
      "Epoch 29/100\n",
      "313/313 [==============================] - 3s 10ms/step - loss: 0.4197 - accuracy: 0.8079 - val_loss: 0.4316 - val_accuracy: 0.8014\n",
      "Epoch 30/100\n",
      "313/313 [==============================] - 3s 10ms/step - loss: 0.4190 - accuracy: 0.8110 - val_loss: 0.4302 - val_accuracy: 0.8012\n",
      "Epoch 31/100\n",
      "313/313 [==============================] - 3s 10ms/step - loss: 0.4182 - accuracy: 0.8093 - val_loss: 0.4360 - val_accuracy: 0.7936\n",
      "Epoch 32/100\n",
      "313/313 [==============================] - 3s 10ms/step - loss: 0.4185 - accuracy: 0.8077 - val_loss: 0.4310 - val_accuracy: 0.7966\n",
      "Epoch 33/100\n",
      "313/313 [==============================] - 3s 10ms/step - loss: 0.4167 - accuracy: 0.8098 - val_loss: 0.4301 - val_accuracy: 0.7992\n",
      "Epoch 34/100\n",
      "313/313 [==============================] - 3s 10ms/step - loss: 0.4150 - accuracy: 0.8114 - val_loss: 0.4344 - val_accuracy: 0.7956\n",
      "Epoch 35/100\n",
      "313/313 [==============================] - 3s 10ms/step - loss: 0.4166 - accuracy: 0.8120 - val_loss: 0.4291 - val_accuracy: 0.8020\n",
      "Epoch 36/100\n",
      "313/313 [==============================] - 3s 10ms/step - loss: 0.4146 - accuracy: 0.8088 - val_loss: 0.4317 - val_accuracy: 0.7966\n",
      "Epoch 37/100\n",
      "313/313 [==============================] - 3s 10ms/step - loss: 0.4149 - accuracy: 0.8111 - val_loss: 0.4283 - val_accuracy: 0.8024\n",
      "Epoch 38/100\n",
      "313/313 [==============================] - 3s 10ms/step - loss: 0.4136 - accuracy: 0.8089 - val_loss: 0.4281 - val_accuracy: 0.7972\n",
      "Epoch 39/100\n",
      "313/313 [==============================] - 3s 10ms/step - loss: 0.4117 - accuracy: 0.8130 - val_loss: 0.4278 - val_accuracy: 0.7994\n",
      "Epoch 40/100\n",
      "313/313 [==============================] - 3s 10ms/step - loss: 0.4123 - accuracy: 0.8130 - val_loss: 0.4280 - val_accuracy: 0.8016\n",
      "Epoch 41/100\n",
      "313/313 [==============================] - 3s 10ms/step - loss: 0.4114 - accuracy: 0.8144 - val_loss: 0.4279 - val_accuracy: 0.7982\n",
      "Epoch 42/100\n",
      "313/313 [==============================] - 3s 10ms/step - loss: 0.4131 - accuracy: 0.8119 - val_loss: 0.4277 - val_accuracy: 0.8024\n",
      "Epoch 43/100\n",
      "313/313 [==============================] - 3s 10ms/step - loss: 0.4125 - accuracy: 0.8128 - val_loss: 0.4274 - val_accuracy: 0.8022\n",
      "Epoch 44/100\n",
      "313/313 [==============================] - 3s 10ms/step - loss: 0.4105 - accuracy: 0.8137 - val_loss: 0.4291 - val_accuracy: 0.8046\n",
      "Epoch 45/100\n",
      "313/313 [==============================] - 3s 10ms/step - loss: 0.4103 - accuracy: 0.8111 - val_loss: 0.4272 - val_accuracy: 0.8036\n",
      "Epoch 46/100\n",
      "313/313 [==============================] - 3s 10ms/step - loss: 0.4103 - accuracy: 0.8110 - val_loss: 0.4288 - val_accuracy: 0.7980\n",
      "Epoch 47/100\n",
      "313/313 [==============================] - 3s 10ms/step - loss: 0.4102 - accuracy: 0.8109 - val_loss: 0.4286 - val_accuracy: 0.8048\n",
      "Epoch 48/100\n",
      "313/313 [==============================] - 3s 10ms/step - loss: 0.4108 - accuracy: 0.8109 - val_loss: 0.4275 - val_accuracy: 0.8008\n"
     ]
    }
   ],
   "source": [
    "rmsprop = keras.optimizers.RMSprop(learning_rate=1e-4)\n",
    "model2.compile(optimizer=rmsprop, loss='binary_crossentropy',\n",
    "\t\t metrics=['accuracy'])\n",
    "checkpoint_cb = keras.callbacks.ModelCheckpoint('best-dropout-model.h5',\n",
    "\t\t\t\t\t\t\t save_best_only=True)\n",
    "early_stopping_cb = keras.callbacks.EarlyStopping(patience=3,\n",
    "restore_best_weights=True)\n",
    "history = model2.fit(train_seq, train_target, epochs=100, batch_size=64,\n",
    "validation_data=(val_seq, val_target),\n",
    "callbacks=[checkpoint_cb, early_stopping_cb])"
   ]
  },
  {
   "cell_type": "code",
   "execution_count": 9,
   "metadata": {},
   "outputs": [
    {
     "data": {
      "image/png": "[encoded data removed]",
      "text/plain": [
       "<Figure size 640x480 with 1 Axes>"
      ]
     },
     "metadata": {},
     "output_type": "display_data"
    }
   ],
   "source": [
    "plt.plot(history.history['loss'])\n",
    "plt.plot(history.history['val_loss'])\n",
    "plt.xlabel('epoch')\n",
    "plt.ylabel('loss')\n",
    "plt.legend(['train', 'val'])\n",
    "plt.show()"
   ]
  },
  {
   "cell_type": "code",
   "execution_count": 6,
   "metadata": {},
   "outputs": [
    {
     "name": "stderr",
     "output_type": "stream",
     "text": [
      "2024-02-05 09:17:32.064605: I tensorflow/core/common_runtime/executor.cc:1197] [/device:CPU:0] (DEBUG INFO) Executor start aborting (this does not indicate an error and you can ignore this message): INVALID_ARGUMENT: You must feed a value for placeholder tensor 'gradients/split_2_grad/concat/split_2/split_dim' with dtype int32\n",
      "\t [[{{node gradients/split_2_grad/concat/split_2/split_dim}}]]\n",
      "2024-02-05 09:17:32.065107: I tensorflow/core/common_runtime/executor.cc:1197] [/device:CPU:0] (DEBUG INFO) Executor start aborting (this does not indicate an error and you can ignore this message): INVALID_ARGUMENT: You must feed a value for placeholder tensor 'gradients/split_grad/concat/split/split_dim' with dtype int32\n",
      "\t [[{{node gradients/split_grad/concat/split/split_dim}}]]\n",
      "2024-02-05 09:17:32.065699: I tensorflow/core/common_runtime/executor.cc:1197] [/device:CPU:0] (DEBUG INFO) Executor start aborting (this does not indicate an error and you can ignore this message): INVALID_ARGUMENT: You must feed a value for placeholder tensor 'gradients/split_1_grad/concat/split_1/split_dim' with dtype int32\n",
      "\t [[{{node gradients/split_1_grad/concat/split_1/split_dim}}]]\n",
      "2024-02-05 09:17:32.120732: I tensorflow/core/common_runtime/executor.cc:1197] [/device:CPU:0] (DEBUG INFO) Executor start aborting (this does not indicate an error and you can ignore this message): INVALID_ARGUMENT: You must feed a value for placeholder tensor 'gradients/split_2_grad/concat/split_2/split_dim' with dtype int32\n",
      "\t [[{{node gradients/split_2_grad/concat/split_2/split_dim}}]]\n",
      "2024-02-05 09:17:32.121160: I tensorflow/core/common_runtime/executor.cc:1197] [/device:CPU:0] (DEBUG INFO) Executor start aborting (this does not indicate an error and you can ignore this message): INVALID_ARGUMENT: You must feed a value for placeholder tensor 'gradients/split_grad/concat/split/split_dim' with dtype int32\n",
      "\t [[{{node gradients/split_grad/concat/split/split_dim}}]]\n",
      "2024-02-05 09:17:32.121644: I tensorflow/core/common_runtime/executor.cc:1197] [/device:CPU:0] (DEBUG INFO) Executor start aborting (this does not indicate an error and you can ignore this message): INVALID_ARGUMENT: You must feed a value for placeholder tensor 'gradients/split_1_grad/concat/split_1/split_dim' with dtype int32\n",
      "\t [[{{node gradients/split_1_grad/concat/split_1/split_dim}}]]\n"
     ]
    }
   ],
   "source": [
    "model3 = keras.Sequential()\n",
    "model3.add(keras.layers.Embedding(500, 16, input_length=100))\n",
    "model3.add(keras.layers.LSTM(8, dropout=0.3, return_sequences=True))\n",
    "model3.add(keras.layers.LSTM(8, dropout=0.3))\n",
    "model3.add(keras.layers.Dense(1, activation='sigmoid'))"
   ]
  },
  {
   "cell_type": "code",
   "execution_count": 7,
   "metadata": {},
   "outputs": [
    {
     "name": "stdout",
     "output_type": "stream",
     "text": [
      "Model: \"sequential_2\"\n",
      "_________________________________________________________________\n",
      " Layer (type)                Output Shape              Param #   \n",
      "=================================================================\n",
      " embedding_2 (Embedding)     (None, 100, 16)           8000      \n",
      "                                                                 \n",
      " lstm_2 (LSTM)               (None, 100, 8)            800       \n",
      "                                                                 \n",
      " lstm_3 (LSTM)               (None, 8)                 544       \n",
      "                                                                 \n",
      " dense_2 (Dense)             (None, 1)                 9         \n",
      "                                                                 \n",
      "=================================================================\n",
      "Total params: 9,353\n",
      "Trainable params: 9,353\n",
      "Non-trainable params: 0\n",
      "_________________________________________________________________\n"
     ]
    }
   ],
   "source": [
    "model3.summary()"
   ]
  },
  {
   "cell_type": "code",
   "execution_count": 8,
   "metadata": {},
   "outputs": [
    {
     "name": "stderr",
     "output_type": "stream",
     "text": [
      "WARNING:absl:At this time, the v2.11+ optimizer `tf.keras.optimizers.RMSprop` runs slowly on M1/M2 Macs, please use the legacy Keras optimizer instead, located at `tf.keras.optimizers.legacy.RMSprop`.\n",
      "WARNING:absl:There is a known slowdown when using v2.11+ Keras optimizers on M1/M2 Macs. Falling back to the legacy Keras optimizer, i.e., `tf.keras.optimizers.legacy.RMSprop`.\n"
     ]
    },
    {
     "name": "stdout",
     "output_type": "stream",
     "text": [
      "Epoch 1/100\n"
     ]
    },
    {
     "name": "stderr",
     "output_type": "stream",
     "text": [
      "2024-02-05 09:21:39.977820: W tensorflow/tsl/platform/profile_utils/cpu_utils.cc:128] Failed to get CPU frequency: 0 Hz\n",
      "2024-02-05 09:21:40.071384: I tensorflow/core/common_runtime/executor.cc:1197] [/device:CPU:0] (DEBUG INFO) Executor start aborting (this does not indicate an error and you can ignore this message): INVALID_ARGUMENT: You must feed a value for placeholder tensor 'gradients/split_2_grad/concat/split_2/split_dim' with dtype int32\n",
      "\t [[{{node gradients/split_2_grad/concat/split_2/split_dim}}]]\n",
      "2024-02-05 09:21:40.071913: I tensorflow/core/common_runtime/executor.cc:1197] [/device:CPU:0] (DEBUG INFO) Executor start aborting (this does not indicate an error and you can ignore this message): INVALID_ARGUMENT: You must feed a value for placeholder tensor 'gradients/split_grad/concat/split/split_dim' with dtype int32\n",
      "\t [[{{node gradients/split_grad/concat/split/split_dim}}]]\n",
      "2024-02-05 09:21:40.072289: I tensorflow/core/common_runtime/executor.cc:1197] [/device:CPU:0] (DEBUG INFO) Executor start aborting (this does not indicate an error and you can ignore this message): INVALID_ARGUMENT: You must feed a value for placeholder tensor 'gradients/split_1_grad/concat/split_1/split_dim' with dtype int32\n",
      "\t [[{{node gradients/split_1_grad/concat/split_1/split_dim}}]]\n",
      "2024-02-05 09:21:40.130768: I tensorflow/core/common_runtime/executor.cc:1197] [/device:CPU:0] (DEBUG INFO) Executor start aborting (this does not indicate an error and you can ignore this message): INVALID_ARGUMENT: You must feed a value for placeholder tensor 'gradients/split_2_grad/concat/split_2/split_dim' with dtype int32\n",
      "\t [[{{node gradients/split_2_grad/concat/split_2/split_dim}}]]\n",
      "2024-02-05 09:21:40.131256: I tensorflow/core/common_runtime/executor.cc:1197] [/device:CPU:0] (DEBUG INFO) Executor start aborting (this does not indicate an error and you can ignore this message): INVALID_ARGUMENT: You must feed a value for placeholder tensor 'gradients/split_grad/concat/split/split_dim' with dtype int32\n",
      "\t [[{{node gradients/split_grad/concat/split/split_dim}}]]\n",
      "2024-02-05 09:21:40.131638: I tensorflow/core/common_runtime/executor.cc:1197] [/device:CPU:0] (DEBUG INFO) Executor start aborting (this does not indicate an error and you can ignore this message): INVALID_ARGUMENT: You must feed a value for placeholder tensor 'gradients/split_1_grad/concat/split_1/split_dim' with dtype int32\n",
      "\t [[{{node gradients/split_1_grad/concat/split_1/split_dim}}]]\n",
      "2024-02-05 09:21:40.379428: I tensorflow/core/common_runtime/executor.cc:1197] [/device:CPU:0] (DEBUG INFO) Executor start aborting (this does not indicate an error and you can ignore this message): INVALID_ARGUMENT: You must feed a value for placeholder tensor 'gradients/split_2_grad/concat/split_2/split_dim' with dtype int32\n",
      "\t [[{{node gradients/split_2_grad/concat/split_2/split_dim}}]]\n",
      "2024-02-05 09:21:40.379948: I tensorflow/core/common_runtime/executor.cc:1197] [/device:CPU:0] (DEBUG INFO) Executor start aborting (this does not indicate an error and you can ignore this message): INVALID_ARGUMENT: You must feed a value for placeholder tensor 'gradients/split_grad/concat/split/split_dim' with dtype int32\n",
      "\t [[{{node gradients/split_grad/concat/split/split_dim}}]]\n",
      "2024-02-05 09:21:40.380663: I tensorflow/core/common_runtime/executor.cc:1197] [/device:CPU:0] (DEBUG INFO) Executor start aborting (this does not indicate an error and you can ignore this message): INVALID_ARGUMENT: You must feed a value for placeholder tensor 'gradients/split_1_grad/concat/split_1/split_dim' with dtype int32\n",
      "\t [[{{node gradients/split_1_grad/concat/split_1/split_dim}}]]\n",
      "2024-02-05 09:21:40.437685: I tensorflow/core/common_runtime/executor.cc:1197] [/device:CPU:0] (DEBUG INFO) Executor start aborting (this does not indicate an error and you can ignore this message): INVALID_ARGUMENT: You must feed a value for placeholder tensor 'gradients/split_2_grad/concat/split_2/split_dim' with dtype int32\n",
      "\t [[{{node gradients/split_2_grad/concat/split_2/split_dim}}]]\n",
      "2024-02-05 09:21:40.438195: I tensorflow/core/common_runtime/executor.cc:1197] [/device:CPU:0] (DEBUG INFO) Executor start aborting (this does not indicate an error and you can ignore this message): INVALID_ARGUMENT: You must feed a value for placeholder tensor 'gradients/split_grad/concat/split/split_dim' with dtype int32\n",
      "\t [[{{node gradients/split_grad/concat/split/split_dim}}]]\n",
      "2024-02-05 09:21:40.438745: I tensorflow/core/common_runtime/executor.cc:1197] [/device:CPU:0] (DEBUG INFO) Executor start aborting (this does not indicate an error and you can ignore this message): INVALID_ARGUMENT: You must feed a value for placeholder tensor 'gradients/split_1_grad/concat/split_1/split_dim' with dtype int32\n",
      "\t [[{{node gradients/split_1_grad/concat/split_1/split_dim}}]]\n"
     ]
    },
    {
     "name": "stdout",
     "output_type": "stream",
     "text": [
      "313/313 [==============================] - ETA: 0s - loss: 0.6930 - accuracy: 0.5130"
     ]
    },
    {
     "name": "stderr",
     "output_type": "stream",
     "text": [
      "2024-02-05 09:21:46.832343: I tensorflow/core/common_runtime/executor.cc:1197] [/device:CPU:0] (DEBUG INFO) Executor start aborting (this does not indicate an error and you can ignore this message): INVALID_ARGUMENT: You must feed a value for placeholder tensor 'gradients/split_2_grad/concat/split_2/split_dim' with dtype int32\n",
      "\t [[{{node gradients/split_2_grad/concat/split_2/split_dim}}]]\n",
      "2024-02-05 09:21:46.832819: I tensorflow/core/common_runtime/executor.cc:1197] [/device:CPU:0] (DEBUG INFO) Executor start aborting (this does not indicate an error and you can ignore this message): INVALID_ARGUMENT: You must feed a value for placeholder tensor 'gradients/split_grad/concat/split/split_dim' with dtype int32\n",
      "\t [[{{node gradients/split_grad/concat/split/split_dim}}]]\n",
      "2024-02-05 09:21:46.833222: I tensorflow/core/common_runtime/executor.cc:1197] [/device:CPU:0] (DEBUG INFO) Executor start aborting (this does not indicate an error and you can ignore this message): INVALID_ARGUMENT: You must feed a value for placeholder tensor 'gradients/split_1_grad/concat/split_1/split_dim' with dtype int32\n",
      "\t [[{{node gradients/split_1_grad/concat/split_1/split_dim}}]]\n",
      "2024-02-05 09:21:46.885123: I tensorflow/core/common_runtime/executor.cc:1197] [/device:CPU:0] (DEBUG INFO) Executor start aborting (this does not indicate an error and you can ignore this message): INVALID_ARGUMENT: You must feed a value for placeholder tensor 'gradients/split_2_grad/concat/split_2/split_dim' with dtype int32\n",
      "\t [[{{node gradients/split_2_grad/concat/split_2/split_dim}}]]\n",
      "2024-02-05 09:21:46.885543: I tensorflow/core/common_runtime/executor.cc:1197] [/device:CPU:0] (DEBUG INFO) Executor start aborting (this does not indicate an error and you can ignore this message): INVALID_ARGUMENT: You must feed a value for placeholder tensor 'gradients/split_grad/concat/split/split_dim' with dtype int32\n",
      "\t [[{{node gradients/split_grad/concat/split/split_dim}}]]\n",
      "2024-02-05 09:21:46.885919: I tensorflow/core/common_runtime/executor.cc:1197] [/device:CPU:0] (DEBUG INFO) Executor start aborting (this does not indicate an error and you can ignore this message): INVALID_ARGUMENT: You must feed a value for placeholder tensor 'gradients/split_1_grad/concat/split_1/split_dim' with dtype int32\n",
      "\t [[{{node gradients/split_1_grad/concat/split_1/split_dim}}]]\n"
     ]
    },
    {
     "name": "stdout",
     "output_type": "stream",
     "text": [
      "313/313 [==============================] - 7s 20ms/step - loss: 0.6930 - accuracy: 0.5130 - val_loss: 0.6928 - val_accuracy: 0.5192\n",
      "Epoch 2/100\n",
      "313/313 [==============================] - 6s 20ms/step - loss: 0.6923 - accuracy: 0.5641 - val_loss: 0.6916 - val_accuracy: 0.6066\n",
      "Epoch 3/100\n",
      "313/313 [==============================] - 6s 19ms/step - loss: 0.6902 - accuracy: 0.6235 - val_loss: 0.6884 - val_accuracy: 0.6448\n",
      "Epoch 4/100\n",
      "313/313 [==============================] - 6s 19ms/step - loss: 0.6838 - accuracy: 0.6452 - val_loss: 0.6769 - val_accuracy: 0.6768\n",
      "Epoch 5/100\n",
      "313/313 [==============================] - 6s 19ms/step - loss: 0.6567 - accuracy: 0.6781 - val_loss: 0.6185 - val_accuracy: 0.7052\n",
      "Epoch 6/100\n",
      "313/313 [==============================] - 6s 20ms/step - loss: 0.5725 - accuracy: 0.7206 - val_loss: 0.5390 - val_accuracy: 0.7378\n",
      "Epoch 7/100\n",
      "313/313 [==============================] - 6s 19ms/step - loss: 0.5326 - accuracy: 0.7469 - val_loss: 0.5181 - val_accuracy: 0.7554\n",
      "Epoch 8/100\n",
      "313/313 [==============================] - 6s 20ms/step - loss: 0.5104 - accuracy: 0.7617 - val_loss: 0.4941 - val_accuracy: 0.7708\n",
      "Epoch 9/100\n",
      "313/313 [==============================] - 6s 20ms/step - loss: 0.4946 - accuracy: 0.7691 - val_loss: 0.4805 - val_accuracy: 0.7826\n",
      "Epoch 10/100\n",
      "313/313 [==============================] - 6s 19ms/step - loss: 0.4809 - accuracy: 0.7763 - val_loss: 0.4712 - val_accuracy: 0.7846\n",
      "Epoch 11/100\n",
      "313/313 [==============================] - 6s 19ms/step - loss: 0.4734 - accuracy: 0.7806 - val_loss: 0.4625 - val_accuracy: 0.7876\n",
      "Epoch 12/100\n",
      "313/313 [==============================] - 6s 20ms/step - loss: 0.4643 - accuracy: 0.7880 - val_loss: 0.4580 - val_accuracy: 0.7880\n",
      "Epoch 13/100\n",
      "313/313 [==============================] - 6s 19ms/step - loss: 0.4579 - accuracy: 0.7893 - val_loss: 0.4530 - val_accuracy: 0.7924\n",
      "Epoch 14/100\n",
      "313/313 [==============================] - 6s 19ms/step - loss: 0.4554 - accuracy: 0.7929 - val_loss: 0.4522 - val_accuracy: 0.7928\n",
      "Epoch 15/100\n",
      "313/313 [==============================] - 6s 19ms/step - loss: 0.4503 - accuracy: 0.7941 - val_loss: 0.4471 - val_accuracy: 0.7954\n",
      "Epoch 16/100\n",
      "313/313 [==============================] - 6s 19ms/step - loss: 0.4463 - accuracy: 0.7962 - val_loss: 0.4458 - val_accuracy: 0.7938\n",
      "Epoch 17/100\n",
      "313/313 [==============================] - 6s 19ms/step - loss: 0.4427 - accuracy: 0.7978 - val_loss: 0.4434 - val_accuracy: 0.7930\n",
      "Epoch 18/100\n",
      "313/313 [==============================] - 6s 19ms/step - loss: 0.4429 - accuracy: 0.7968 - val_loss: 0.4439 - val_accuracy: 0.7908\n",
      "Epoch 19/100\n",
      "313/313 [==============================] - 6s 20ms/step - loss: 0.4383 - accuracy: 0.8019 - val_loss: 0.4418 - val_accuracy: 0.7980\n",
      "Epoch 20/100\n",
      "313/313 [==============================] - 6s 19ms/step - loss: 0.4372 - accuracy: 0.7987 - val_loss: 0.4404 - val_accuracy: 0.7970\n",
      "Epoch 21/100\n",
      "313/313 [==============================] - 6s 19ms/step - loss: 0.4354 - accuracy: 0.8009 - val_loss: 0.4393 - val_accuracy: 0.7976\n",
      "Epoch 22/100\n",
      "313/313 [==============================] - 6s 19ms/step - loss: 0.4358 - accuracy: 0.7996 - val_loss: 0.4379 - val_accuracy: 0.7992\n",
      "Epoch 23/100\n",
      "313/313 [==============================] - 6s 19ms/step - loss: 0.4323 - accuracy: 0.8025 - val_loss: 0.4370 - val_accuracy: 0.7968\n",
      "Epoch 24/100\n",
      "313/313 [==============================] - 6s 20ms/step - loss: 0.4307 - accuracy: 0.8013 - val_loss: 0.4368 - val_accuracy: 0.7950\n",
      "Epoch 25/100\n",
      "313/313 [==============================] - 6s 19ms/step - loss: 0.4327 - accuracy: 0.8028 - val_loss: 0.4368 - val_accuracy: 0.7930\n",
      "Epoch 26/100\n",
      "313/313 [==============================] - 6s 19ms/step - loss: 0.4283 - accuracy: 0.8075 - val_loss: 0.4353 - val_accuracy: 0.8016\n",
      "Epoch 27/100\n",
      "313/313 [==============================] - 6s 19ms/step - loss: 0.4262 - accuracy: 0.8057 - val_loss: 0.4386 - val_accuracy: 0.7930\n",
      "Epoch 28/100\n",
      "313/313 [==============================] - 6s 19ms/step - loss: 0.4266 - accuracy: 0.8037 - val_loss: 0.4387 - val_accuracy: 0.7910\n",
      "Epoch 29/100\n",
      "313/313 [==============================] - 6s 19ms/step - loss: 0.4269 - accuracy: 0.8055 - val_loss: 0.4373 - val_accuracy: 0.8022\n"
     ]
    }
   ],
   "source": [
    "rmsprop = keras.optimizers.RMSprop(learning_rate=1e-4)\n",
    "model3.compile(optimizer=rmsprop, loss='binary_crossentropy',\n",
    "\t\t metrics=['accuracy'])\n",
    "checkpoint_cb = keras.callbacks.ModelCheckpoint('best-2rnn-model.h5',\n",
    "save_best_only=True)\n",
    "early_stopping_cb = keras.callbacks.EarlyStopping(patience=3,\n",
    "restore_best_weights=True)\n",
    "history = model3.fit(train_seq, train_target, epochs=100, batch_size=64,\n",
    "validation_data=(val_seq, val_target),\n",
    "callbacks=[checkpoint_cb, early_stopping_cb])"
   ]
  },
  {
   "cell_type": "code",
   "execution_count": 10,
   "metadata": {},
   "outputs": [
    {
     "data": {
      "image/png": "[encoded data removed]",
      "text/plain": [
       "<Figure size 640x480 with 1 Axes>"
      ]
     },
     "metadata": {},
     "output_type": "display_data"
    }
   ],
   "source": [
    "import matplotlib.pyplot as plt\n",
    "plt.plot(history.history['loss'])\n",
    "plt.plot(history.history['val_loss'])\n",
    "plt.xlabel('epoch')\n",
    "plt.ylabel('loss')\n",
    "plt.legend(['train', 'val'])\n",
    "plt.show()"
   ]
  },
  {
   "cell_type": "code",
   "execution_count": 1,
   "metadata": {},
   "outputs": [],
   "source": [
    "# GRU"
   ]
  },
  {
   "cell_type": "code",
   "execution_count": 7,
   "metadata": {},
   "outputs": [
    {
     "name": "stderr",
     "output_type": "stream",
     "text": [
      "2024-02-05 10:04:18.568093: I tensorflow/core/common_runtime/executor.cc:1197] [/device:CPU:0] (DEBUG INFO) Executor start aborting (this does not indicate an error and you can ignore this message): INVALID_ARGUMENT: You must feed a value for placeholder tensor 'gradients/split_2_grad/concat/split_2/split_dim' with dtype int32\n",
      "\t [[{{node gradients/split_2_grad/concat/split_2/split_dim}}]]\n",
      "2024-02-05 10:04:18.568517: I tensorflow/core/common_runtime/executor.cc:1197] [/device:CPU:0] (DEBUG INFO) Executor start aborting (this does not indicate an error and you can ignore this message): INVALID_ARGUMENT: You must feed a value for placeholder tensor 'gradients/split_grad/concat/split/split_dim' with dtype int32\n",
      "\t [[{{node gradients/split_grad/concat/split/split_dim}}]]\n",
      "2024-02-05 10:04:18.569141: I tensorflow/core/common_runtime/executor.cc:1197] [/device:CPU:0] (DEBUG INFO) Executor start aborting (this does not indicate an error and you can ignore this message): INVALID_ARGUMENT: You must feed a value for placeholder tensor 'gradients/split_1_grad/concat/split_1/split_dim' with dtype int32\n",
      "\t [[{{node gradients/split_1_grad/concat/split_1/split_dim}}]]\n"
     ]
    }
   ],
   "source": [
    "model4 = keras.Sequential()\n",
    "model4.add(keras.layers.Embedding(500, 16, input_length=100))\n",
    "model4.add(keras.layers.GRU(8))\n",
    "model4.add(keras.layers.Dense(1, activation='sigmoid'))"
   ]
  },
  {
   "cell_type": "code",
   "execution_count": 9,
   "metadata": {},
   "outputs": [
    {
     "name": "stdout",
     "output_type": "stream",
     "text": [
      "Model: \"sequential_1\"\n",
      "_________________________________________________________________\n",
      " Layer (type)                Output Shape              Param #   \n",
      "=================================================================\n",
      " embedding_1 (Embedding)     (None, 100, 16)           8000      \n",
      "                                                                 \n",
      " gru (GRU)                   (None, 8)                 624       \n",
      "                                                                 \n",
      " dense_1 (Dense)             (None, 1)                 9         \n",
      "                                                                 \n",
      "=================================================================\n",
      "Total params: 8,633\n",
      "Trainable params: 8,633\n",
      "Non-trainable params: 0\n",
      "_________________________________________________________________\n"
     ]
    }
   ],
   "source": [
    "import matplotlib.pyplot as plt\n",
    "model4.summary()"
   ]
  },
  {
   "cell_type": "code",
   "execution_count": 10,
   "metadata": {},
   "outputs": [
    {
     "name": "stderr",
     "output_type": "stream",
     "text": [
      "WARNING:absl:At this time, the v2.11+ optimizer `tf.keras.optimizers.RMSprop` runs slowly on M1/M2 Macs, please use the legacy Keras optimizer instead, located at `tf.keras.optimizers.legacy.RMSprop`.\n",
      "WARNING:absl:There is a known slowdown when using v2.11+ Keras optimizers on M1/M2 Macs. Falling back to the legacy Keras optimizer, i.e., `tf.keras.optimizers.legacy.RMSprop`.\n"
     ]
    },
    {
     "name": "stdout",
     "output_type": "stream",
     "text": [
      "Epoch 1/100\n"
     ]
    },
    {
     "name": "stderr",
     "output_type": "stream",
     "text": [
      "2024-02-05 10:17:29.022965: W tensorflow/tsl/platform/profile_utils/cpu_utils.cc:128] Failed to get CPU frequency: 0 Hz\n",
      "2024-02-05 10:17:29.096955: I tensorflow/core/common_runtime/executor.cc:1197] [/device:CPU:0] (DEBUG INFO) Executor start aborting (this does not indicate an error and you can ignore this message): INVALID_ARGUMENT: You must feed a value for placeholder tensor 'gradients/split_2_grad/concat/split_2/split_dim' with dtype int32\n",
      "\t [[{{node gradients/split_2_grad/concat/split_2/split_dim}}]]\n",
      "2024-02-05 10:17:29.097419: I tensorflow/core/common_runtime/executor.cc:1197] [/device:CPU:0] (DEBUG INFO) Executor start aborting (this does not indicate an error and you can ignore this message): INVALID_ARGUMENT: You must feed a value for placeholder tensor 'gradients/split_grad/concat/split/split_dim' with dtype int32\n",
      "\t [[{{node gradients/split_grad/concat/split/split_dim}}]]\n",
      "2024-02-05 10:17:29.097810: I tensorflow/core/common_runtime/executor.cc:1197] [/device:CPU:0] (DEBUG INFO) Executor start aborting (this does not indicate an error and you can ignore this message): INVALID_ARGUMENT: You must feed a value for placeholder tensor 'gradients/split_1_grad/concat/split_1/split_dim' with dtype int32\n",
      "\t [[{{node gradients/split_1_grad/concat/split_1/split_dim}}]]\n",
      "2024-02-05 10:17:29.273543: I tensorflow/core/common_runtime/executor.cc:1197] [/device:CPU:0] (DEBUG INFO) Executor start aborting (this does not indicate an error and you can ignore this message): INVALID_ARGUMENT: You must feed a value for placeholder tensor 'gradients/split_2_grad/concat/split_2/split_dim' with dtype int32\n",
      "\t [[{{node gradients/split_2_grad/concat/split_2/split_dim}}]]\n",
      "2024-02-05 10:17:29.274033: I tensorflow/core/common_runtime/executor.cc:1197] [/device:CPU:0] (DEBUG INFO) Executor start aborting (this does not indicate an error and you can ignore this message): INVALID_ARGUMENT: You must feed a value for placeholder tensor 'gradients/split_grad/concat/split/split_dim' with dtype int32\n",
      "\t [[{{node gradients/split_grad/concat/split/split_dim}}]]\n",
      "2024-02-05 10:17:29.274686: I tensorflow/core/common_runtime/executor.cc:1197] [/device:CPU:0] (DEBUG INFO) Executor start aborting (this does not indicate an error and you can ignore this message): INVALID_ARGUMENT: You must feed a value for placeholder tensor 'gradients/split_1_grad/concat/split_1/split_dim' with dtype int32\n",
      "\t [[{{node gradients/split_1_grad/concat/split_1/split_dim}}]]\n"
     ]
    },
    {
     "name": "stdout",
     "output_type": "stream",
     "text": [
      "311/313 [============================>.] - ETA: 0s - loss: 0.6919 - accuracy: 0.5401"
     ]
    },
    {
     "name": "stderr",
     "output_type": "stream",
     "text": [
      "2024-02-05 10:17:32.898177: I tensorflow/core/common_runtime/executor.cc:1197] [/device:CPU:0] (DEBUG INFO) Executor start aborting (this does not indicate an error and you can ignore this message): INVALID_ARGUMENT: You must feed a value for placeholder tensor 'gradients/split_2_grad/concat/split_2/split_dim' with dtype int32\n",
      "\t [[{{node gradients/split_2_grad/concat/split_2/split_dim}}]]\n",
      "2024-02-05 10:17:32.898762: I tensorflow/core/common_runtime/executor.cc:1197] [/device:CPU:0] (DEBUG INFO) Executor start aborting (this does not indicate an error and you can ignore this message): INVALID_ARGUMENT: You must feed a value for placeholder tensor 'gradients/split_grad/concat/split/split_dim' with dtype int32\n",
      "\t [[{{node gradients/split_grad/concat/split/split_dim}}]]\n",
      "2024-02-05 10:17:32.899273: I tensorflow/core/common_runtime/executor.cc:1197] [/device:CPU:0] (DEBUG INFO) Executor start aborting (this does not indicate an error and you can ignore this message): INVALID_ARGUMENT: You must feed a value for placeholder tensor 'gradients/split_1_grad/concat/split_1/split_dim' with dtype int32\n",
      "\t [[{{node gradients/split_1_grad/concat/split_1/split_dim}}]]\n"
     ]
    },
    {
     "name": "stdout",
     "output_type": "stream",
     "text": [
      "313/313 [==============================] - 4s 11ms/step - loss: 0.6919 - accuracy: 0.5399 - val_loss: 0.6912 - val_accuracy: 0.5584\n",
      "Epoch 2/100\n",
      "313/313 [==============================] - 3s 11ms/step - loss: 0.6893 - accuracy: 0.5918 - val_loss: 0.6883 - val_accuracy: 0.5976\n",
      "Epoch 3/100\n",
      "313/313 [==============================] - 3s 11ms/step - loss: 0.6853 - accuracy: 0.6081 - val_loss: 0.6839 - val_accuracy: 0.6024\n",
      "Epoch 4/100\n",
      "313/313 [==============================] - 3s 11ms/step - loss: 0.6792 - accuracy: 0.6190 - val_loss: 0.6772 - val_accuracy: 0.6102\n",
      "Epoch 5/100\n",
      "313/313 [==============================] - 3s 10ms/step - loss: 0.6704 - accuracy: 0.6313 - val_loss: 0.6676 - val_accuracy: 0.6154\n",
      "Epoch 6/100\n",
      "313/313 [==============================] - 3s 11ms/step - loss: 0.6578 - accuracy: 0.6402 - val_loss: 0.6541 - val_accuracy: 0.6258\n",
      "Epoch 7/100\n",
      "313/313 [==============================] - 3s 11ms/step - loss: 0.6403 - accuracy: 0.6525 - val_loss: 0.6348 - val_accuracy: 0.6462\n",
      "Epoch 8/100\n",
      "313/313 [==============================] - 3s 11ms/step - loss: 0.6140 - accuracy: 0.6743 - val_loss: 0.6038 - val_accuracy: 0.6836\n",
      "Epoch 9/100\n",
      "313/313 [==============================] - 3s 10ms/step - loss: 0.5685 - accuracy: 0.7128 - val_loss: 0.5494 - val_accuracy: 0.7278\n",
      "Epoch 10/100\n",
      "313/313 [==============================] - 3s 11ms/step - loss: 0.5183 - accuracy: 0.7506 - val_loss: 0.5214 - val_accuracy: 0.7458\n",
      "Epoch 11/100\n",
      "313/313 [==============================] - 3s 11ms/step - loss: 0.4987 - accuracy: 0.7636 - val_loss: 0.5104 - val_accuracy: 0.7522\n",
      "Epoch 12/100\n",
      "313/313 [==============================] - 3s 11ms/step - loss: 0.4856 - accuracy: 0.7719 - val_loss: 0.4979 - val_accuracy: 0.7642\n",
      "Epoch 13/100\n",
      "313/313 [==============================] - 3s 11ms/step - loss: 0.4745 - accuracy: 0.7792 - val_loss: 0.4952 - val_accuracy: 0.7628\n",
      "Epoch 14/100\n",
      "313/313 [==============================] - 3s 11ms/step - loss: 0.4650 - accuracy: 0.7853 - val_loss: 0.4863 - val_accuracy: 0.7706\n",
      "Epoch 15/100\n",
      "313/313 [==============================] - 3s 10ms/step - loss: 0.4573 - accuracy: 0.7897 - val_loss: 0.4783 - val_accuracy: 0.7798\n",
      "Epoch 16/100\n",
      "313/313 [==============================] - 3s 11ms/step - loss: 0.4516 - accuracy: 0.7941 - val_loss: 0.4724 - val_accuracy: 0.7828\n",
      "Epoch 17/100\n",
      "313/313 [==============================] - 3s 11ms/step - loss: 0.4463 - accuracy: 0.7980 - val_loss: 0.4675 - val_accuracy: 0.7838\n",
      "Epoch 18/100\n",
      "313/313 [==============================] - 3s 10ms/step - loss: 0.4416 - accuracy: 0.8018 - val_loss: 0.4647 - val_accuracy: 0.7892\n",
      "Epoch 19/100\n",
      "313/313 [==============================] - 3s 11ms/step - loss: 0.4376 - accuracy: 0.8044 - val_loss: 0.4613 - val_accuracy: 0.7924\n",
      "Epoch 20/100\n",
      "313/313 [==============================] - 3s 11ms/step - loss: 0.4348 - accuracy: 0.8064 - val_loss: 0.4599 - val_accuracy: 0.7890\n",
      "Epoch 21/100\n",
      "313/313 [==============================] - 3s 10ms/step - loss: 0.4320 - accuracy: 0.8087 - val_loss: 0.4583 - val_accuracy: 0.7890\n",
      "Epoch 22/100\n",
      "313/313 [==============================] - 3s 11ms/step - loss: 0.4297 - accuracy: 0.8095 - val_loss: 0.4557 - val_accuracy: 0.7924\n",
      "Epoch 23/100\n",
      "313/313 [==============================] - 3s 11ms/step - loss: 0.4283 - accuracy: 0.8117 - val_loss: 0.4546 - val_accuracy: 0.7910\n",
      "Epoch 24/100\n",
      "313/313 [==============================] - 3s 11ms/step - loss: 0.4262 - accuracy: 0.8124 - val_loss: 0.4538 - val_accuracy: 0.7930\n",
      "Epoch 25/100\n",
      "313/313 [==============================] - 3s 11ms/step - loss: 0.4244 - accuracy: 0.8128 - val_loss: 0.4516 - val_accuracy: 0.7916\n",
      "Epoch 26/100\n",
      "313/313 [==============================] - 3s 11ms/step - loss: 0.4238 - accuracy: 0.8128 - val_loss: 0.4494 - val_accuracy: 0.7930\n",
      "Epoch 27/100\n",
      "313/313 [==============================] - 3s 11ms/step - loss: 0.4225 - accuracy: 0.8131 - val_loss: 0.4492 - val_accuracy: 0.7918\n",
      "Epoch 28/100\n",
      "313/313 [==============================] - 3s 11ms/step - loss: 0.4215 - accuracy: 0.8138 - val_loss: 0.4488 - val_accuracy: 0.7942\n",
      "Epoch 29/100\n",
      "313/313 [==============================] - 3s 11ms/step - loss: 0.4206 - accuracy: 0.8135 - val_loss: 0.4472 - val_accuracy: 0.7922\n",
      "Epoch 30/100\n",
      "313/313 [==============================] - 3s 11ms/step - loss: 0.4198 - accuracy: 0.8152 - val_loss: 0.4473 - val_accuracy: 0.7932\n",
      "Epoch 31/100\n",
      "313/313 [==============================] - 3s 11ms/step - loss: 0.4193 - accuracy: 0.8145 - val_loss: 0.4460 - val_accuracy: 0.7938\n",
      "Epoch 32/100\n",
      "313/313 [==============================] - 3s 11ms/step - loss: 0.4183 - accuracy: 0.8155 - val_loss: 0.4457 - val_accuracy: 0.7924\n",
      "Epoch 33/100\n",
      "313/313 [==============================] - 3s 11ms/step - loss: 0.4176 - accuracy: 0.8152 - val_loss: 0.4456 - val_accuracy: 0.7948\n",
      "Epoch 34/100\n",
      "313/313 [==============================] - 3s 11ms/step - loss: 0.4171 - accuracy: 0.8163 - val_loss: 0.4443 - val_accuracy: 0.7926\n",
      "Epoch 35/100\n",
      "313/313 [==============================] - 3s 11ms/step - loss: 0.4165 - accuracy: 0.8160 - val_loss: 0.4436 - val_accuracy: 0.7920\n",
      "Epoch 36/100\n",
      "313/313 [==============================] - 3s 11ms/step - loss: 0.4157 - accuracy: 0.8168 - val_loss: 0.4430 - val_accuracy: 0.7934\n",
      "Epoch 37/100\n",
      "313/313 [==============================] - 3s 11ms/step - loss: 0.4155 - accuracy: 0.8152 - val_loss: 0.4447 - val_accuracy: 0.7932\n",
      "Epoch 38/100\n",
      "313/313 [==============================] - 3s 11ms/step - loss: 0.4149 - accuracy: 0.8162 - val_loss: 0.4441 - val_accuracy: 0.7914\n",
      "Epoch 39/100\n",
      "313/313 [==============================] - 3s 11ms/step - loss: 0.4145 - accuracy: 0.8156 - val_loss: 0.4413 - val_accuracy: 0.7956\n",
      "Epoch 40/100\n",
      "313/313 [==============================] - 3s 11ms/step - loss: 0.4143 - accuracy: 0.8166 - val_loss: 0.4415 - val_accuracy: 0.7980\n",
      "Epoch 41/100\n",
      "313/313 [==============================] - 3s 11ms/step - loss: 0.4140 - accuracy: 0.8156 - val_loss: 0.4407 - val_accuracy: 0.7976\n",
      "Epoch 42/100\n",
      "313/313 [==============================] - 3s 11ms/step - loss: 0.4133 - accuracy: 0.8156 - val_loss: 0.4425 - val_accuracy: 0.7948\n",
      "Epoch 43/100\n",
      "313/313 [==============================] - 3s 11ms/step - loss: 0.4130 - accuracy: 0.8168 - val_loss: 0.4401 - val_accuracy: 0.7976\n",
      "Epoch 44/100\n",
      "313/313 [==============================] - 3s 11ms/step - loss: 0.4119 - accuracy: 0.8167 - val_loss: 0.4425 - val_accuracy: 0.7958\n",
      "Epoch 45/100\n",
      "313/313 [==============================] - 3s 11ms/step - loss: 0.4119 - accuracy: 0.8176 - val_loss: 0.4398 - val_accuracy: 0.7964\n",
      "Epoch 46/100\n",
      "313/313 [==============================] - 3s 11ms/step - loss: 0.4118 - accuracy: 0.8166 - val_loss: 0.4404 - val_accuracy: 0.7968\n",
      "Epoch 47/100\n",
      "313/313 [==============================] - 3s 11ms/step - loss: 0.4111 - accuracy: 0.8159 - val_loss: 0.4435 - val_accuracy: 0.7952\n",
      "Epoch 48/100\n",
      "313/313 [==============================] - 3s 11ms/step - loss: 0.4111 - accuracy: 0.8166 - val_loss: 0.4387 - val_accuracy: 0.7986\n",
      "Epoch 49/100\n",
      "313/313 [==============================] - 3s 11ms/step - loss: 0.4107 - accuracy: 0.8188 - val_loss: 0.4390 - val_accuracy: 0.7958\n",
      "Epoch 50/100\n",
      "313/313 [==============================] - 3s 11ms/step - loss: 0.4106 - accuracy: 0.8171 - val_loss: 0.4370 - val_accuracy: 0.7992\n",
      "Epoch 51/100\n",
      "313/313 [==============================] - 3s 11ms/step - loss: 0.4095 - accuracy: 0.8167 - val_loss: 0.4407 - val_accuracy: 0.7924\n",
      "Epoch 52/100\n",
      "313/313 [==============================] - 3s 11ms/step - loss: 0.4098 - accuracy: 0.8167 - val_loss: 0.4440 - val_accuracy: 0.7918\n",
      "Epoch 53/100\n",
      "313/313 [==============================] - 3s 11ms/step - loss: 0.4093 - accuracy: 0.8160 - val_loss: 0.4357 - val_accuracy: 0.8008\n",
      "Epoch 54/100\n",
      "313/313 [==============================] - 3s 11ms/step - loss: 0.4089 - accuracy: 0.8174 - val_loss: 0.4381 - val_accuracy: 0.7964\n",
      "Epoch 55/100\n",
      "313/313 [==============================] - 3s 11ms/step - loss: 0.4086 - accuracy: 0.8177 - val_loss: 0.4401 - val_accuracy: 0.7952\n",
      "Epoch 56/100\n",
      "313/313 [==============================] - 3s 11ms/step - loss: 0.4084 - accuracy: 0.8172 - val_loss: 0.4368 - val_accuracy: 0.7972\n"
     ]
    }
   ],
   "source": [
    "rmsprop = keras.optimizers.RMSprop(learning_rate=1e-4)\n",
    "model4.compile(optimizer=rmsprop, loss='binary_crossentropy',\n",
    "\t\t metrics=['accuracy'])\n",
    "checkpoint_cb = keras.callbacks.ModelCheckpoint('best-gru-model.h5',\n",
    "\t\t\t\t save_best_only=True)\n",
    "early_stopping_cb = keras.callbacks.EarlyStopping(patience=3,\n",
    "restore_best_weights=True)\n",
    "history = model4.fit(train_seq, train_target, epochs=100, batch_size=64,\n",
    "validation_data=(val_seq, val_target),\n",
    "callbacks=[checkpoint_cb, early_stopping_cb])"
   ]
  },
  {
   "cell_type": "code",
   "execution_count": null,
   "metadata": {},
   "outputs": [],
   "source": []
  }
 ],
 "metadata": {
  "kernelspec": {
   "display_name": "Ml-Study",
   "language": "python",
   "name": "python3"
  },
  "language_info": {
   "codemirror_mode": {
    "name": "ipython",
    "version": 3
   },
   "file_extension": ".py",
   "mimetype": "text/x-python",
   "name": "python",
   "nbconvert_exporter": "python",
   "pygments_lexer": "ipython3",
   "version": "3.9.18"
  }
 },
 "nbformat": 4,
 "nbformat_minor": 2
}
